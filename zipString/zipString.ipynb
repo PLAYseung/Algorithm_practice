{
 "cells": [
  {
   "cell_type": "code",
   "execution_count": 1,
   "metadata": {},
   "outputs": [],
   "source": [
    "tstring = \"abcabcabcabcdededededede\""
   ]
  },
  {
   "cell_type": "markdown",
   "metadata": {},
   "source": [
    "### 버블정렬의 형태\n",
    "- 제일 앞의 값 부터 하나씩 뒤로 가면서 비교 하는 알고리즘"
   ]
  },
  {
   "cell_type": "markdown",
   "metadata": {},
   "source": [
    "### 필요한 알고리즘 형태\n",
    "- 버블정렬 알고리즘\n",
    "- 문자열 분해 및 원하는 범위로 합치는 알고리즘"
   ]
  },
  {
   "cell_type": "code",
   "execution_count": 5,
   "metadata": {},
   "outputs": [
    {
     "name": "stdout",
     "output_type": "stream",
     "text": [
      "ab\n",
      "ab\n",
      "cd\n",
      "cd\n",
      "ab\n",
      "ab\n",
      "cd\n",
      "cd\n"
     ]
    }
   ],
   "source": [
    "# 0 -> 2 -> 4 -> 6 -> 8 -> 10 -> 12 -> 14 \n",
    "# 8번\n",
    "# 2 -> 4 -> 6 -> 8 -> 10 -> 12 -> 14 -> 16\n",
    "\n",
    "# len(tstring)\n",
    "\n",
    "for idx in range(0,len(tstring),2):\n",
    "    print(tstring[0+idx:2+idx])"
   ]
  },
  {
   "cell_type": "code",
   "execution_count": 2,
   "metadata": {},
   "outputs": [
    {
     "data": {
      "text/plain": [
       "['aa', 'bb', 'ac', 'cc']"
      ]
     },
     "execution_count": 2,
     "metadata": {},
     "output_type": "execute_result"
    }
   ],
   "source": [
    "# 문자열 분할 알고리즘\n",
    "\n",
    "def parsing_str( inputString,time ):\n",
    "    pars_str = []\n",
    "    if len(inputString)%time:\n",
    "        return\n",
    "    for idx in range(0,len(tstring),time):\n",
    "        pars_str.append(tstring[0+idx:time+idx])\n",
    "    return pars_str\n",
    "\n",
    "parsing_str(tstring,2)\n"
   ]
  },
  {
   "cell_type": "code",
   "execution_count": 3,
   "metadata": {},
   "outputs": [
    {
     "data": {
      "text/plain": [
       "['aabbaccc']"
      ]
     },
     "execution_count": 3,
     "metadata": {},
     "output_type": "execute_result"
    }
   ],
   "source": [
    "# 분할한 문자열을 버블 정렬 로직으로 비교\n",
    "\n",
    "def buble_logig(tstring):\n",
    "\n",
    "    base=len(tstring)\n",
    "\n",
    "    for idx in range(1,len(tstring)+1):\n",
    "        if parsing_str(tstring,idx):\n",
    "            buble = parsing_str(tstring,idx)\n",
    "            for i, item in enumerate(buble):\n",
    "                if item in buble[i+1:i+2]:\n",
    "                    buble.insert(i,'2')\n",
    "                    buble.pop(i+1)\n",
    "        else:\n",
    "            continue\n",
    "        \n",
    "        if base > len(''.join(buble)):\n",
    "            base = len(''.join(buble))\n",
    "\n",
    "    return buble\n",
    "\n",
    "buble_logig(tstring)"
   ]
  },
  {
   "cell_type": "code",
   "execution_count": 83,
   "metadata": {},
   "outputs": [
    {
     "name": "stdout",
     "output_type": "stream",
     "text": [
      "2abcd2ab2cd\n"
     ]
    }
   ],
   "source": [
    "# 뒤에 오는 값과 비교하는 알고리즘\n",
    "\n",
    "test_buble = ['ab', 'ab', 'cd', 'ab', 'ab', 'cd', 'cd']\n",
    "pop_list = list()\n",
    "\n",
    "for i, item in enumerate(test_buble):\n",
    "    if item in test_buble[i+1:i+2]:\n",
    "        test_buble.insert(i,'2')\n",
    "        test_buble.pop(i+1)\n",
    "        # break\n",
    "# pop_list.reverse()\n",
    "# for pop in pop_list:\n",
    "#     test_buble.pop(pop)\n",
    "\n",
    "# print(pop_list)\n",
    "print(''.join(test_buble))"
   ]
  },
  {
   "cell_type": "code",
   "execution_count": 4,
   "metadata": {},
   "outputs": [
    {
     "data": {
      "text/plain": [
       "9"
      ]
     },
     "execution_count": 4,
     "metadata": {},
     "output_type": "execute_result"
    }
   ],
   "source": [
    "tstring = input()\n",
    "buble_logig(tstring)"
   ]
  },
  {
   "cell_type": "code",
   "execution_count": 5,
   "metadata": {},
   "outputs": [
    {
     "data": {
      "text/plain": [
       "['a', 'a', 'b', 'b', 'a', 'c', 'c', 'c']"
      ]
     },
     "execution_count": 5,
     "metadata": {},
     "output_type": "execute_result"
    }
   ],
   "source": [
    "tstring = input()\n",
    "parsing_str(tstring,1)"
   ]
  },
  {
   "cell_type": "code",
   "execution_count": 8,
   "metadata": {},
   "outputs": [],
   "source": [
    "def solution(s):\n",
    "    answer = len(s)\n",
    "\n",
    "    # 1개 단위(step)부터 압축 단위를 늘려가며 확인\n",
    "    for step in range(1, len(s) // 2 + 1):\n",
    "        # step이 1씩 증가 -> 문자열이 서치 하는 범위를 늘려나감\n",
    "        compressed = \"\" # 순차적으로 문자를 받아줄 변수 정의\n",
    "        prev = s[0:step]  # 앞에서부터 step만큼의 문자열 추출 / 반복 할때 마다 문자블럭의 범위가 커짐\n",
    "        count = 1\n",
    "    \n",
    "    # 단위(step) 크기만큼 증가시키며 이전 문자열과 비교\n",
    "    # 다음에 올 문자를 한칸씩 뒤로 가면서 비교\n",
    "        for j in range(step, len(s), step):\n",
    "        \n",
    "        # 이전 상태와 동일하다면 압축 횟수(count) 증가\n",
    "            if prev == s[j:j + step]:\n",
    "                count += 1\n",
    "            \n",
    "        # 다른 문자열이 나왔다면\n",
    "            else:\n",
    "                compressed += str(count) + prev if count >= 2 else prev\n",
    "                prev = s[j:j + step]  # 다음에 올 문자열과 비교 하기위해 다시 초기화 \n",
    "                count = 1\n",
    "            \n",
    "        # 남아 있는 문자열에 대해서 처리\n",
    "        # count의 값이 2이상 일때만 문자열에 추가\n",
    "        compressed += str(count) + prev if count >= 2 else prev\n",
    "    \n",
    "        # 만들어지는 문자열이 가장 짧은 것이 정답\n",
    "        answer = min(answer, len(compressed))\n",
    "\n",
    "    return answer\n"
   ]
  },
  {
   "cell_type": "code",
   "execution_count": null,
   "metadata": {},
   "outputs": [],
   "source": []
  }
 ],
 "metadata": {
  "kernelspec": {
   "display_name": "Python 3.10.6 64-bit (windows store)",
   "language": "python",
   "name": "python3"
  },
  "language_info": {
   "codemirror_mode": {
    "name": "ipython",
    "version": 3
   },
   "file_extension": ".py",
   "mimetype": "text/x-python",
   "name": "python",
   "nbconvert_exporter": "python",
   "pygments_lexer": "ipython3",
   "version": "3.10.6"
  },
  "orig_nbformat": 4,
  "vscode": {
   "interpreter": {
    "hash": "614ab989cdc66a649d1bb5ae325f2f1314093ceadee94b2deaa33c97b811aaf8"
   }
  }
 },
 "nbformat": 4,
 "nbformat_minor": 2
}
