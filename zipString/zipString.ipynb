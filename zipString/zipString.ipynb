{
 "cells": [
  {
   "cell_type": "code",
   "execution_count": 2,
   "metadata": {},
   "outputs": [],
   "source": [
    "tstring = 'ababcdcdababcdcd'"
   ]
  },
  {
   "cell_type": "markdown",
   "metadata": {},
   "source": [
    "### 버블정렬의 형태\n",
    "- 제일 앞의 값 부터 하나씩 뒤로 가면서 비교 하는 알고리즘"
   ]
  },
  {
   "cell_type": "markdown",
   "metadata": {},
   "source": [
    "### 필요한 알고리즘 형태\n",
    "- 버블정렬 알고리즘\n",
    "- 문자열 분해 및 원하는 범위로 합치는 알고리즘"
   ]
  },
  {
   "cell_type": "code",
   "execution_count": 5,
   "metadata": {},
   "outputs": [
    {
     "name": "stdout",
     "output_type": "stream",
     "text": [
      "ab\n",
      "ab\n",
      "cd\n",
      "cd\n",
      "ab\n",
      "ab\n",
      "cd\n",
      "cd\n"
     ]
    }
   ],
   "source": [
    "# 0 -> 2 -> 4 -> 6 -> 8 -> 10 -> 12 -> 14 \n",
    "# 8번\n",
    "# 2 -> 4 -> 6 -> 8 -> 10 -> 12 -> 14 -> 16\n",
    "\n",
    "# len(tstring)\n",
    "\n",
    "for idx in range(0,len(tstring),2):\n",
    "    print(tstring[0+idx:2+idx])"
   ]
  },
  {
   "cell_type": "code",
   "execution_count": 95,
   "metadata": {},
   "outputs": [
    {
     "data": {
      "text/plain": [
       "['ab', 'ab', 'cd', 'cd', 'ab', 'ab', 'cd', 'cd']"
      ]
     },
     "execution_count": 95,
     "metadata": {},
     "output_type": "execute_result"
    }
   ],
   "source": [
    "# 문자열 분할 알고리즘\n",
    "\n",
    "def parsing_str( inputString,time ):\n",
    "    pars_str = []\n",
    "    if len(inputString)%time:\n",
    "        return\n",
    "    for idx in range(0,len(tstring),time):\n",
    "        pars_str.append(tstring[0+idx:time+idx])\n",
    "    return pars_str\n",
    "\n",
    "parsing_str(tstring,2)\n"
   ]
  },
  {
   "cell_type": "code",
   "execution_count": 103,
   "metadata": {},
   "outputs": [
    {
     "data": {
      "text/plain": [
       "9"
      ]
     },
     "execution_count": 103,
     "metadata": {},
     "output_type": "execute_result"
    }
   ],
   "source": [
    "# 분할한 문자열을 버블 정렬 로직으로 비교\n",
    "\n",
    "def buble_logig(tstring):\n",
    "\n",
    "    base=len(tstring)\n",
    "\n",
    "    for idx in range(1,len(tstring)+1):\n",
    "        if parsing_str(tstring,idx):\n",
    "            buble = parsing_str(tstring,idx)\n",
    "            for i, item in enumerate(buble):\n",
    "                if item in buble[i+1:i+2]:\n",
    "                    buble.insert(i,'2')\n",
    "                    buble.pop(i+1)\n",
    "        else:\n",
    "            continue\n",
    "        \n",
    "        if base > len(''.join(buble)):\n",
    "            base = len(''.join(buble))\n",
    "\n",
    "    return base\n",
    "\n",
    "buble_logig(tstring)"
   ]
  },
  {
   "cell_type": "code",
   "execution_count": 83,
   "metadata": {},
   "outputs": [
    {
     "name": "stdout",
     "output_type": "stream",
     "text": [
      "2abcd2ab2cd\n"
     ]
    }
   ],
   "source": [
    "# 뒤에 오는 값과 비교하는 알고리즘\n",
    "\n",
    "test_buble = ['ab', 'ab', 'cd', 'ab', 'ab', 'cd', 'cd']\n",
    "pop_list = list()\n",
    "\n",
    "for i, item in enumerate(test_buble):\n",
    "    if item in test_buble[i+1:i+2]:\n",
    "        test_buble.insert(i,'2')\n",
    "        test_buble.pop(i+1)\n",
    "        # break\n",
    "# pop_list.reverse()\n",
    "# for pop in pop_list:\n",
    "#     test_buble.pop(pop)\n",
    "\n",
    "# print(pop_list)\n",
    "print(''.join(test_buble))"
   ]
  },
  {
   "cell_type": "code",
   "execution_count": null,
   "metadata": {},
   "outputs": [],
   "source": []
  }
 ],
 "metadata": {
  "kernelspec": {
   "display_name": "Python 3.10.6 64-bit (windows store)",
   "language": "python",
   "name": "python3"
  },
  "language_info": {
   "codemirror_mode": {
    "name": "ipython",
    "version": 3
   },
   "file_extension": ".py",
   "mimetype": "text/x-python",
   "name": "python",
   "nbconvert_exporter": "python",
   "pygments_lexer": "ipython3",
   "version": "3.10.6"
  },
  "orig_nbformat": 4,
  "vscode": {
   "interpreter": {
    "hash": "614ab989cdc66a649d1bb5ae325f2f1314093ceadee94b2deaa33c97b811aaf8"
   }
  }
 },
 "nbformat": 4,
 "nbformat_minor": 2
}
