{
 "cells": [
  {
   "cell_type": "code",
   "execution_count": 10,
   "metadata": {},
   "outputs": [],
   "source": [
    "# 테스트용 que_list\n",
    "\n",
    "queue1 = [3, 2, 7, 2]\n",
    "queue2 = [4, 6, 5, 1]"
   ]
  },
  {
   "cell_type": "markdown",
   "metadata": {},
   "source": [
    "### 방법 1\n",
    "- 정답 60 / 100\n"
   ]
  },
  {
   "cell_type": "code",
   "execution_count": 77,
   "metadata": {},
   "outputs": [],
   "source": [
    "def solution(q1,q2):\n",
    "    qall = q1+q2\n",
    "    # 홀수 일때 종료\n",
    "    if (sum(qall))%2:\n",
    "        return -1\n",
    "    # 짝수인데 인수 값의 덩어리가 커서 분할되지 않을 때\n",
    "    # 두 리스트 모두 홀수인 인수만 가지고 있을 때 나눌 수 없음\n",
    "    # 1 3 / 3 3\n",
    "    elif len(qall)==len([x for x in qall if x%2==1]):\n",
    "        return -1\n",
    "\n",
    "    \n",
    "    # 총 합이 큰 큐에서 총 합이 작은 큐로 값을 이동 해주는 형태\n",
    "    cnt = 0\n",
    "    while True:\n",
    "        if sum(q1) == sum(q2):\n",
    "            return cnt\n",
    "\n",
    "        if sum(q1) > sum(q2):\n",
    "            popq = q1.pop(0)\n",
    "            q2.insert(len(q2),popq)\n",
    "        else:\n",
    "            popq = q2.pop(0)\n",
    "            q1.insert(len(q1),popq)\n",
    "        cnt += 1\n",
    "        print(q1,q2)\n",
    "    "
   ]
  },
  {
   "cell_type": "code",
   "execution_count": 78,
   "metadata": {},
   "outputs": [
    {
     "data": {
      "text/plain": [
       "-1"
      ]
     },
     "execution_count": 78,
     "metadata": {},
     "output_type": "execute_result"
    }
   ],
   "source": [
    "solution(queue1,queue2)"
   ]
  },
  {
   "cell_type": "code",
   "execution_count": 73,
   "metadata": {},
   "outputs": [
    {
     "name": "stdout",
     "output_type": "stream",
     "text": [
      "None\n"
     ]
    }
   ],
   "source": [
    "print(queue1.extend(queue2))\n"
   ]
  },
  {
   "cell_type": "markdown",
   "metadata": {},
   "source": [
    "### 방법 2"
   ]
  },
  {
   "cell_type": "code",
   "execution_count": 41,
   "metadata": {},
   "outputs": [],
   "source": [
    "# 테스트용 que_list\n",
    "\n",
    "queue1 = [3, 2, 7, 2]\n",
    "queue2 = [4, 6, 5, 1]"
   ]
  },
  {
   "cell_type": "code",
   "execution_count": 42,
   "metadata": {},
   "outputs": [],
   "source": [
    "def solution(q1,q2):\n",
    "    sum1,sum2 = sum(q1),sum(q2)\n",
    "    for i in range(len(q1)*3):\n",
    "        if sum1 > sum2:\n",
    "            sum1 -= q1[0]\n",
    "            sum2 += q1[0]\n",
    "            q2.append(q1.pop(0))\n",
    "        elif sum2 > sum1:\n",
    "            sum1 += q2[0]\n",
    "            sum2 -= q2[0]\n",
    "            q1.append(q2.pop(0))\n",
    "        else:\n",
    "            return i\n",
    "    return -1"
   ]
  },
  {
   "cell_type": "code",
   "execution_count": 43,
   "metadata": {},
   "outputs": [
    {
     "data": {
      "text/plain": [
       "2"
      ]
     },
     "execution_count": 43,
     "metadata": {},
     "output_type": "execute_result"
    }
   ],
   "source": [
    "solution(queue1,queue2)"
   ]
  },
  {
   "cell_type": "code",
   "execution_count": 113,
   "metadata": {},
   "outputs": [
    {
     "data": {
      "text/plain": [
       "[3, 3, 1, 3]"
      ]
     },
     "execution_count": 113,
     "metadata": {},
     "output_type": "execute_result"
    }
   ],
   "source": [
    "test = [ i for i in queue1+queue2 if i%2==1 ]\n",
    "test.reverse()\n",
    "test"
   ]
  },
  {
   "cell_type": "markdown",
   "metadata": {},
   "source": [
    "### 해법"
   ]
  },
  {
   "cell_type": "code",
   "execution_count": null,
   "metadata": {},
   "outputs": [],
   "source": [
    "from collections import deque\n",
    "def solution(q1,q2):\n",
    "    q1,q2 = deque(q1),deque(q2)\n",
    "    sum1,sum2 = sum(q1),sum(q2)\n",
    "    for i in range(len(q1)*3):\n",
    "        if sum1 > sum2:\n",
    "            sum1 -= q1[0]\n",
    "            sum2 += q1[0]\n",
    "            q2.append(q1.popleft())\n",
    "        elif sum1 < sum2:\n",
    "            sum1 += q2[0]\n",
    "            sum2 -= q2[0]\n",
    "            q1.append(q2.popleft())\n",
    "        else:\n",
    "            return i\n",
    "    return -1\n"
   ]
  }
 ],
 "metadata": {
  "kernelspec": {
   "display_name": "Python 3.10.6 64-bit (microsoft store)",
   "language": "python",
   "name": "python3"
  },
  "language_info": {
   "codemirror_mode": {
    "name": "ipython",
    "version": 3
   },
   "file_extension": ".py",
   "mimetype": "text/x-python",
   "name": "python",
   "nbconvert_exporter": "python",
   "pygments_lexer": "ipython3",
   "version": "3.10.6"
  },
  "orig_nbformat": 4,
  "vscode": {
   "interpreter": {
    "hash": "614ab989cdc66a649d1bb5ae325f2f1314093ceadee94b2deaa33c97b811aaf8"
   }
  }
 },
 "nbformat": 4,
 "nbformat_minor": 2
}
